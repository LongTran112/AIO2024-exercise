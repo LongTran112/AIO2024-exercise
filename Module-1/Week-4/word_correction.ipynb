{
 "cells": [
  {
   "cell_type": "code",
   "execution_count": 1,
   "metadata": {},
   "outputs": [
    {
     "name": "stderr",
     "output_type": "stream",
     "text": [
      "2024-06-25 21:59:10.129 \n",
      "  \u001b[33m\u001b[1mWarning:\u001b[0m to view this Streamlit app on a browser, run it with the following\n",
      "  command:\n",
      "\n",
      "    streamlit run /opt/anaconda3/envs/test_env/lib/python3.11/site-packages/ipykernel_launcher.py [ARGUMENTS]\n",
      "2024-06-25 21:59:10.130 Session state does not function when running a script without `streamlit run`\n"
     ]
    }
   ],
   "source": [
    "import streamlit as st\n",
    "\n",
    "def levenshtein_distance(token1, token2):\n",
    "    distances = [[0]*(len(token2)+1) for i in range(len(token1)+1)]\n",
    "\n",
    "    for t1 in range(len(token1) + 1):\n",
    "        distances[t1][0] = t1\n",
    "\n",
    "    for t2 in range(len(token2) + 1):\n",
    "        distances[0][t2] = t2\n",
    "\n",
    "    a = 0\n",
    "    b = 0\n",
    "    c = 0\n",
    "\n",
    "    for t1 in range(1, len(token1) + 1):\n",
    "        for t2 in range(1, len(token2) + 1):\n",
    "            if (token1[t1-1] == token2[t2-1]):\n",
    "                distances[t1][t2] = distances[t1 - 1][t2 - 1]\n",
    "            else:\n",
    "                a = distances[t1][t2 - 1]\n",
    "                b = distances[t1 - 1][t2]\n",
    "                c = distances[t1 - 1][t2 - 1]\n",
    "\n",
    "                if (a <= b and a <= c):\n",
    "                    distances[t1][t2] = a + 1\n",
    "                elif (b <= a and b <= c):\n",
    "                    distances[t1][t2] = b + 1\n",
    "                else:\n",
    "                    distances[t1][t2] = c + 1\n",
    "\n",
    "    return distances[len(token1)][len(token2)]\n",
    "\n",
    "def load_vocab(file_path):\n",
    "    with open(file_path, 'r') as f:\n",
    "        lines = f.readlines()\n",
    "    words = sorted(set([line.strip().lower() for line in lines]))\n",
    "    return words\n",
    "vocabs = load_vocab(file_path='./source/data/vocab.txt')\n",
    "\n",
    "def main():\n",
    "    st.title(\"Word Correction using Levenshtein Distance\")\n",
    "    word = st.text_input('Word:')\n",
    "\n",
    "    if st.button(\"Compute\"):\n",
    "\n",
    "        # compute levenshtein distance\n",
    "        leven_distances = dict()\n",
    "        for vocab in vocabs:\n",
    "            leven_distances[vocab] = levenshtein_distance(word, vocab)\n",
    "        \n",
    "        # sorted by distance\n",
    "        sorted_distences = dict(sorted(leven_distances.items(), key=lambda item: item[1]))\n",
    "        correct_word = list(sorted_distences.keys())[0]\n",
    "        st.write('Correct word: ', correct_word)\n",
    "\n",
    "        col1, col2 = st.columns(2)\n",
    "        col1.write('Vocabulary:')\n",
    "        col1.write(vocabs)\n",
    "        \n",
    "        col2.write('Distances:')\n",
    "        col2.write(sorted_distences)\n",
    "\n",
    "if __name__ == \"__main__\":\n",
    "    main()"
   ]
  }
 ],
 "metadata": {
  "kernelspec": {
   "display_name": "test_env",
   "language": "python",
   "name": "python3"
  },
  "language_info": {
   "codemirror_mode": {
    "name": "ipython",
    "version": 3
   },
   "file_extension": ".py",
   "mimetype": "text/x-python",
   "name": "python",
   "nbconvert_exporter": "python",
   "pygments_lexer": "ipython3",
   "version": "3.11.9"
  }
 },
 "nbformat": 4,
 "nbformat_minor": 2
}
