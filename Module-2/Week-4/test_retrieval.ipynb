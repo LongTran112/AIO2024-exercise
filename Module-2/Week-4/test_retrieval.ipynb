{
 "cells": [
  {
   "cell_type": "code",
   "execution_count": 52,
   "metadata": {},
   "outputs": [],
   "source": [
    "import pandas as pd\n",
    "import numpy as np\n",
    "from sklearn.metrics.pairwise import cosine_similarity\n",
    "from sklearn.feature_extraction.text import TfidfVectorizer\n",
    "from scipy.stats import pearsonr"
   ]
  },
  {
   "cell_type": "code",
   "execution_count": 53,
   "metadata": {},
   "outputs": [
    {
     "data": {
      "text/plain": [
       "0.31126580760710637"
      ]
     },
     "execution_count": 53,
     "metadata": {},
     "output_type": "execute_result"
    }
   ],
   "source": [
    "vi_data_df = pd.read_csv('vi_text_retrieval.csv')\n",
    "context = vi_data_df['text']\n",
    "context = [doc.lower() for doc in context]\n",
    "\n",
    "vectorizer = TfidfVectorizer()\n",
    "tfidf = vectorizer.fit_transform(context)\n",
    "tfidf.toarray()[7][0]"
   ]
  },
  {
   "cell_type": "code",
   "execution_count": 54,
   "metadata": {},
   "outputs": [],
   "source": [
    "def tfidf_search(question, tfidf_vectorizer, top_docs=5):\n",
    "    context = vi_data_df['text']\n",
    "    context = [doc.lower() for doc in context]\n",
    "    \n",
    "    # Fit the TF-IDF vectorizer and transform the documents\n",
    "    tfidf = tfidf_vectorizer.fit_transform(context)\n",
    "    \n",
    "    # Transform the question using the same vectorizer\n",
    "    question_tfidf = tfidf_vectorizer.transform([question.lower()])\n",
    "    \n",
    "    # Compute cosine similarity between the question and the documents\n",
    "    cosine_scores = cosine_similarity(tfidf, question_tfidf)\n",
    "    \n",
    "    # Get top k cosine score and index its\n",
    "    results = []\n",
    "    for idx in cosine_scores.argsort()[0][-top_docs:]:\n",
    "        doc_score = {\n",
    "            'id': idx,\n",
    "            'cosine_similarity': cosine_scores[idx]\n",
    "        }\n",
    "        results.append(doc_score)\n",
    "    return results"
   ]
  },
  {
   "cell_type": "code",
   "execution_count": 55,
   "metadata": {},
   "outputs": [
    {
     "data": {
      "text/plain": [
       "array([0.62799105])"
      ]
     },
     "execution_count": 55,
     "metadata": {},
     "output_type": "execute_result"
    }
   ],
   "source": [
    "question = vi_data_df.iloc[0]['question']\n",
    "results = tfidf_search(question, vectorizer, top_docs=5)\n",
    "results[0]['cosine_similarity']"
   ]
  },
  {
   "cell_type": "code",
   "execution_count": 60,
   "metadata": {},
   "outputs": [],
   "source": [
    "def corr_search(question, tfidf_vectorizer, documents, top_docs=5):\n",
    "    # Convert documents to lowercase\n",
    "    context = [doc.lower() for doc in documents]\n",
    "    \n",
    "    # Fit and transform the TF-IDF vectorizer with the documents\n",
    "    tfidf_matrix = tfidf_vectorizer.fit_transform(context)\n",
    "    \n",
    "    # Transform the question into TF-IDF representation\n",
    "    query_tfidf = tfidf_vectorizer.transform([question.lower()])\n",
    "    \n",
    "    # Convert query vector to dense array\n",
    "    query_vector = query_tfidf.toarray().flatten()\n",
    "    \n",
    "    # Initialize list to store correlation scores\n",
    "    corr_scores = []\n",
    "    \n",
    "    # Compute Pearson correlation between the query and each document\n",
    "    for i in range(tfidf_matrix.shape[0]):\n",
    "        # Convert document vector to dense array\n",
    "        doc_vector = tfidf_matrix.getrow(i).toarray().flatten()\n",
    "        \n",
    "        # Ensure vectors are non-empty and of the same length\n",
    "        if len(query_vector) == len(doc_vector) and np.any(query_vector) and np.any(doc_vector):\n",
    "            corr, _ = pearsonr(query_vector, doc_vector)\n",
    "        else:\n",
    "            corr = 0  # Handle cases where vectors might not be comparable\n",
    "        \n",
    "        corr_scores.append((i, corr))\n",
    "    \n",
    "    # Sort and get top k correlation scores and their indices\n",
    "    sorted_scores = sorted(corr_scores, key=lambda x: x[1], reverse=True)\n",
    "    results = [{'id': idx, 'corr_score': score} for idx, score in sorted_scores[:top_docs]]\n",
    "    \n",
    "    return results"
   ]
  },
  {
   "cell_type": "code",
   "execution_count": 65,
   "metadata": {},
   "outputs": [
    {
     "data": {
      "text/plain": [
       "0.20734246471972492"
      ]
     },
     "execution_count": 65,
     "metadata": {},
     "output_type": "execute_result"
    }
   ],
   "source": [
    "question = vi_data_df.iloc[0]['question']\n",
    "results = corr_search(question, vectorizer, vi_data_df['text'], top_docs=10)\n",
    "results[1]['corr_score']"
   ]
  },
  {
   "cell_type": "code",
   "execution_count": 66,
   "metadata": {},
   "outputs": [
    {
     "data": {
      "text/plain": [
       "[{'id': 0, 'corr_score': 0.6259599752568686},\n",
       " {'id': 97, 'corr_score': 0.20734246471972492},\n",
       " {'id': 136, 'corr_score': 0.1712461552016509},\n",
       " {'id': 384, 'corr_score': 0.1552034605469958},\n",
       " {'id': 118, 'corr_score': 0.1544453199666376},\n",
       " {'id': 88, 'corr_score': 0.13898841948520774},\n",
       " {'id': 440, 'corr_score': 0.0917184643138468},\n",
       " {'id': 102, 'corr_score': 0.08894581424330283},\n",
       " {'id': 424, 'corr_score': 0.08699546869428038},\n",
       " {'id': 405, 'corr_score': 0.08508517160933964}]"
      ]
     },
     "execution_count": 66,
     "metadata": {},
     "output_type": "execute_result"
    }
   ],
   "source": [
    "results"
   ]
  }
 ],
 "metadata": {
  "kernelspec": {
   "display_name": "test_env",
   "language": "python",
   "name": "python3"
  },
  "language_info": {
   "codemirror_mode": {
    "name": "ipython",
    "version": 3
   },
   "file_extension": ".py",
   "mimetype": "text/x-python",
   "name": "python",
   "nbconvert_exporter": "python",
   "pygments_lexer": "ipython3",
   "version": "3.11.9"
  }
 },
 "nbformat": 4,
 "nbformat_minor": 2
}
