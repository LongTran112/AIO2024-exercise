{
 "cells": [
  {
   "cell_type": "code",
   "execution_count": 1,
   "metadata": {},
   "outputs": [
    {
     "name": "stdout",
     "output_type": "stream",
     "text": [
      "Downloading...\n",
      "From: https://drive.google.com/uc?id=1iA0WmVfW88HyJvTBSQDI5vesf-pgKabq\n",
      "To: /Users/longtran/AIO Study Folder/AIO-Exercises/Module-2/advertising.csv\n",
      "100%|██████████████████████████████████████| 4.06k/4.06k [00:00<00:00, 14.2MB/s]\n"
     ]
    }
   ],
   "source": [
    "# Download data\n",
    "!gdown 1iA0WmVfW88HyJvTBSQDI5vesf-pgKabq"
   ]
  },
  {
   "cell_type": "code",
   "execution_count": 6,
   "metadata": {},
   "outputs": [],
   "source": [
    "import pandas as pd\n",
    "df = pd.read_csv('advertising.csv')\n"
   ]
  },
  {
   "cell_type": "code",
   "execution_count": 7,
   "metadata": {},
   "outputs": [
    {
     "name": "stdout",
     "output_type": "stream",
     "text": [
      "The max value in the column is: 27.0\n",
      "The index max value in the column is: 175\n"
     ]
    }
   ],
   "source": [
    "column_data =  df['Sales']\n",
    "\n",
    "# Step 3: Find the maximum value in that column\n",
    "max_value = column_data.max()\n",
    "\n",
    "# Step 4: Find the index of the maximum value in that column\n",
    "max_index = column_data.idxmax()\n",
    "\n",
    "print(f'The max value in the column is: {max_value}')\n",
    "print(f'The index max value in the column is: {max_index}')"
   ]
  },
  {
   "cell_type": "code",
   "execution_count": 9,
   "metadata": {},
   "outputs": [
    {
     "name": "stdout",
     "output_type": "stream",
     "text": [
      "The mean value of TV column is 147.0425\n"
     ]
    }
   ],
   "source": [
    "column_data =  df['TV']\n",
    "mean = column_data.mean()\n",
    "print(f'The mean value of TV column is {mean}')"
   ]
  },
  {
   "cell_type": "code",
   "execution_count": 10,
   "metadata": {},
   "outputs": [
    {
     "name": "stdout",
     "output_type": "stream",
     "text": [
      "The mean value of TV column is 147.0425\n"
     ]
    }
   ],
   "source": [
    "column_data =  df['TV']\n",
    "mean = column_data.mean()\n",
    "print(f'The mean value of TV column is {mean}')"
   ]
  },
  {
   "cell_type": "code",
   "execution_count": 12,
   "metadata": {},
   "outputs": [
    {
     "name": "stdout",
     "output_type": "stream",
     "text": [
      "The number of values greater than 20 in the column is: 40\n"
     ]
    }
   ],
   "source": [
    "column_data =  df['Sales']\n",
    "values_greater_than_20 = column_data[column_data >= 20]\n",
    "\n",
    "\n",
    "# Step 4: Count the number of values that satisfy the condition\n",
    "count_greater_than_20 = values_greater_than_20.count()\n",
    "\n",
    "print(f'The number of values greater than 20 in the column is: {count_greater_than_20}')"
   ]
  }
 ],
 "metadata": {
  "kernelspec": {
   "display_name": "test_env",
   "language": "python",
   "name": "python3"
  },
  "language_info": {
   "codemirror_mode": {
    "name": "ipython",
    "version": 3
   },
   "file_extension": ".py",
   "mimetype": "text/x-python",
   "name": "python",
   "nbconvert_exporter": "python",
   "pygments_lexer": "ipython3",
   "version": "3.11.9"
  }
 },
 "nbformat": 4,
 "nbformat_minor": 2
}
