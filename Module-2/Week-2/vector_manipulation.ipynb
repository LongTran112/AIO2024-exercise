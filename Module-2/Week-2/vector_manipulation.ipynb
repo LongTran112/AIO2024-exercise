{
 "cells": [
  {
   "cell_type": "code",
   "execution_count": 2,
   "metadata": {},
   "outputs": [
    {
     "data": {
      "text/plain": [
       "3.7416573867739413"
      ]
     },
     "execution_count": 2,
     "metadata": {},
     "output_type": "execute_result"
    }
   ],
   "source": [
    "import numpy as np\n",
    "\n",
    "def compute_vector_length(vector):\n",
    "    return np.linalg.norm(vector)\n",
    "\n",
    "vector = np.array([1,2,3])\n",
    "\n",
    "result = compute_vector_length(vector)\n",
    "result\n"
   ]
  },
  {
   "cell_type": "code",
   "execution_count": 3,
   "metadata": {},
   "outputs": [
    {
     "data": {
      "text/plain": [
       "32"
      ]
     },
     "execution_count": 3,
     "metadata": {},
     "output_type": "execute_result"
    }
   ],
   "source": [
    "def compute_dot_product(vector1, vector2):\n",
    "    return np.dot(vector1, vector2)\n",
    "\n",
    "vector1 = np.array([1,2,3])\n",
    "vector2 = np.array([4,5,6])\n",
    "\n",
    "result = compute_dot_product(vector1, vector2)\n",
    "result\n"
   ]
  },
  {
   "cell_type": "code",
   "execution_count": 5,
   "metadata": {},
   "outputs": [
    {
     "data": {
      "text/plain": [
       "array([48, 54, 60])"
      ]
     },
     "execution_count": 5,
     "metadata": {},
     "output_type": "execute_result"
    }
   ],
   "source": [
    "\n",
    "def matrix_multi_vector(vector1, vector2):\n",
    "    return np.dot(vector1, vector2)\n",
    "\n",
    "vector1 = np.array([1,2,3])\n",
    "vector2 = np.array([[4,5,6],\n",
    "                   [7,8,9],\n",
    "                   [10,11,12]])\n",
    "\n",
    "result = matrix_multi_vector(vector1, vector2)\n",
    "result\n"
   ]
  },
  {
   "cell_type": "code",
   "execution_count": 7,
   "metadata": {},
   "outputs": [
    {
     "data": {
      "text/plain": [
       "array([48, 54, 60])"
      ]
     },
     "execution_count": 7,
     "metadata": {},
     "output_type": "execute_result"
    }
   ],
   "source": [
    "def matrix_multi_matrix(matrix1, matrix2):\n",
    "    return np.matmul(matrix1, matrix2)\n",
    "\n",
    "matrix1 = np.array([1,2,3])\n",
    "matrix2 = np.array([[4,5,6],\n",
    "                   [7,8,9],\n",
    "                   [10,11,12]])\n",
    "\n",
    "result = matrix_multi_matrix(matrix1, matrix2)\n",
    "result"
   ]
  },
  {
   "cell_type": "code",
   "execution_count": 8,
   "metadata": {},
   "outputs": [
    {
     "data": {
      "text/plain": [
       "array([[ -5,  -6,  -7],\n",
       "       [ -8,  -9, -10],\n",
       "       [-11, -12, -13]])"
      ]
     },
     "execution_count": 8,
     "metadata": {},
     "output_type": "execute_result"
    }
   ],
   "source": [
    "def matrix_inverse(matrix):\n",
    "    return np.invert(matrix)\n",
    "\n",
    "matrix = np.array([[4,5,6],\n",
    "                   [7,8,9],\n",
    "                   [10,11,12]])\n",
    "result = matrix_inverse(matrix)\n",
    "result\n"
   ]
  },
  {
   "cell_type": "code",
   "execution_count": 4,
   "metadata": {},
   "outputs": [
    {
     "data": {
      "text/plain": [
       "array([ 2.47279221e+01, -7.27922061e-01,  1.46904603e-15])"
      ]
     },
     "execution_count": 4,
     "metadata": {},
     "output_type": "execute_result"
    }
   ],
   "source": [
    "def eig(matrix):\n",
    "    return np.linalg.eig(matrix)\n",
    "\n",
    "matrix = np.array([[4,5,6],\n",
    "                   [7,8,9],\n",
    "                   [10,11,12]])\n",
    "lambdas, V = eig(matrix)\n",
    "lambdas"
   ]
  },
  {
   "cell_type": "code",
   "execution_count": 5,
   "metadata": {},
   "outputs": [
    {
     "data": {
      "text/plain": [
       "array([[-0.35200306, -0.76057531,  0.40824829],\n",
       "       [-0.55343002, -0.05691242, -0.81649658],\n",
       "       [-0.75485698,  0.64675048,  0.40824829]])"
      ]
     },
     "execution_count": 5,
     "metadata": {},
     "output_type": "execute_result"
    }
   ],
   "source": [
    "V"
   ]
  },
  {
   "cell_type": "code",
   "execution_count": 4,
   "metadata": {},
   "outputs": [
    {
     "data": {
      "text/plain": [
       "0.6666666666666666"
      ]
     },
     "execution_count": 4,
     "metadata": {},
     "output_type": "execute_result"
    }
   ],
   "source": [
    "def cosine_similarity(x, y):\n",
    "    return np.dot(x, y) / (np.linalg.norm(x)*np.linalg.norm(y))\n",
    "\n",
    "x = np.array([4, 2, 1, 2])\n",
    "y = np.array([1, 2, 2, 0])\n",
    "\n",
    "\n",
    "result = cosine_similarity(x, y)\n",
    "result"
   ]
  }
 ],
 "metadata": {
  "kernelspec": {
   "display_name": "test_env",
   "language": "python",
   "name": "python3"
  },
  "language_info": {
   "codemirror_mode": {
    "name": "ipython",
    "version": 3
   },
   "file_extension": ".py",
   "mimetype": "text/x-python",
   "name": "python",
   "nbconvert_exporter": "python",
   "pygments_lexer": "ipython3",
   "version": "3.11.9"
  }
 },
 "nbformat": 4,
 "nbformat_minor": 2
}
