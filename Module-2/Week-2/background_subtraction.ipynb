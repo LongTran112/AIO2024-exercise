{
 "cells": [
  {
   "cell_type": "code",
   "execution_count": 53,
   "metadata": {},
   "outputs": [],
   "source": [
    "import numpy as np\n",
    "import cv2\n",
    "\n",
    "bg1_image = cv2.imread(\"./ImageData/GreenBackground.png\",1)\n",
    "bg1_image = cv2.resize(bg1_image, (678, 381))\n",
    "\n",
    "ob_image = cv2.imread(\"./ImageData/Object.png\", 1) \n",
    "ob_image = cv2.resize(ob_image , (678, 381))\n",
    "\n",
    "bg2_image = cv2.imread(\"./ImageData/NewBackground.jpg\", 1) \n",
    "bg2_image = cv2.resize(bg2_image , (678, 381))\n"
   ]
  },
  {
   "cell_type": "code",
   "execution_count": 56,
   "metadata": {},
   "outputs": [
    {
     "data": {
      "text/plain": [
       "True"
      ]
     },
     "execution_count": 56,
     "metadata": {},
     "output_type": "execute_result"
    }
   ],
   "source": [
    "def compute_diff(bg, img):\n",
    "    difference = cv2.absdiff(bg, img)\n",
    "    _, difference_binary = cv2.threshold(difference, 15, 255, \n",
    "                                     cv2.THRESH_BINARY)\n",
    "    return _, difference_binary\n",
    "\n",
    "_, diff_binary = compute_diff(bg1_image, ob_image)\n",
    "\n",
    "output = np.where(diff_binary == 0, bg2_image, ob_image)\n",
    "cv2.imwrite(\"output.png\", output)"
   ]
  }
 ],
 "metadata": {
  "kernelspec": {
   "display_name": "test_env",
   "language": "python",
   "name": "python3"
  },
  "language_info": {
   "codemirror_mode": {
    "name": "ipython",
    "version": 3
   },
   "file_extension": ".py",
   "mimetype": "text/x-python",
   "name": "python",
   "nbconvert_exporter": "python",
   "pygments_lexer": "ipython3",
   "version": "3.11.9"
  }
 },
 "nbformat": 4,
 "nbformat_minor": 2
}
