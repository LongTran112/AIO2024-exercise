{
 "cells": [
  {
   "cell_type": "code",
   "execution_count": 29,
   "metadata": {},
   "outputs": [],
   "source": [
    "import numpy as np\n",
    "import pandas as pd\n",
    "from sklearn.preprocessing import LabelEncoder"
   ]
  },
  {
   "cell_type": "code",
   "execution_count": 30,
   "metadata": {},
   "outputs": [],
   "source": [
    "data = {\n",
    "    \"Day\" : [\"D1\",\"D2\",\"D3\",\"D4\",\"D5\",\"D6\",\"D7\",\"D8\",\"D9\",\"D10\"],\n",
    "    \"Outlook\" : [\"Sunny\", \"Sunny\", \"Overcast\", \"Rain\", \"Rain\", \"Rain\", \"Overcast\", \"Overcast\", \"Sunny\", \"Rain\"],\n",
    "    \"Temperature\" : [\"Hot\", \"Hot\", \"Hot\", \"Mild\", \"Cool\", \"Cool\", \"Cool\", \"Mild\", \"Cool\", \"Mild\"],\n",
    "    \"Humidity\": [\"High\", \"High\", \"High\", \"High\", \"Normal\", \"Normal\", \"Normal\", \"High\", \"Normal\", \"Normal\"],\n",
    "    \"Wind\": [\"Weak\", \"Strong\", \"Weak\", \"Weak\", \"Weak\",\"Strong\", \"Strong\",\"Weak\",\"Weak\",\"Weak\"],\n",
    "    \"PlayTennis\": [\"No\", \"No\", \"Yes\", \"Yes\", \"Yes\", \"No\", \"Yes\", \"No\", \"Yes\",\"Yes\"]\n",
    "}"
   ]
  },
  {
   "cell_type": "code",
   "execution_count": 31,
   "metadata": {},
   "outputs": [
    {
     "name": "stdout",
     "output_type": "stream",
     "text": [
      "   Day  Outlook  Temperature  Humidity  Wind  PlayTennis\n",
      "0   D1        2            1         0     1           0\n",
      "1   D2        2            1         0     0           0\n",
      "2   D3        0            1         0     1           1\n",
      "3   D4        1            2         0     1           1\n",
      "4   D5        1            0         1     1           1\n",
      "5   D6        1            0         1     0           0\n",
      "6   D7        0            0         1     0           1\n",
      "7   D8        0            2         0     1           0\n",
      "8   D9        2            0         1     1           1\n",
      "9  D10        1            2         1     1           1\n"
     ]
    }
   ],
   "source": [
    "df = pd.DataFrame(data)\n",
    "\n",
    "le_outlook = LabelEncoder()\n",
    "le_temperature = LabelEncoder()\n",
    "le_humidity = LabelEncoder()\n",
    "le_wind = LabelEncoder()\n",
    "le_play_tennis = LabelEncoder()\n",
    "\n",
    "df['Outlook'] = le_outlook.fit_transform(df['Oulookt'])\n",
    "df['Temperature'] = le_temperature.fit_transform(df['Temperature'])\n",
    "df['Humidity'] = le_humidity.fit_transform(df['Humidity'])\n",
    "df['Wind'] = le_wind.fit_transform(df['Wind'])\n",
    "df['PlayTennis'] = le_play_tennis.fit_transform(df['PlayTennis'])\n",
    "\n",
    "print(df)"
   ]
  },
  {
   "cell_type": "code",
   "execution_count": 48,
   "metadata": {},
   "outputs": [
    {
     "name": "stdout",
     "output_type": "stream",
     "text": [
      "Accuracy: 40.00%\n",
      "Predicted Play Tennis: Yes\n"
     ]
    },
    {
     "name": "stderr",
     "output_type": "stream",
     "text": [
      "/opt/anaconda3/envs/test_env/lib/python3.11/site-packages/sklearn/base.py:493: UserWarning: X does not have valid feature names, but MultinomialNB was fitted with feature names\n",
      "  warnings.warn(\n"
     ]
    }
   ],
   "source": [
    "from sklearn.naive_bayes import MultinomialNB\n",
    "from sklearn.model_selection import train_test_split\n",
    "from sklearn.metrics import accuracy_score\n",
    "\n",
    "# Split data into features and target variables\n",
    "X = df[['Outlook', 'Temperature', 'Humidity', 'Wind']]\n",
    "y = df['PlayTennis']\n",
    "\n",
    "# Split the data into training and testing sets\n",
    "X_train, X_test, y_train, y_test = train_test_split(X, y, test_size=0.5, random_state=60)\n",
    "\n",
    "# Initialize the Multinomial Naive Bayes classifier\n",
    "mnb = MultinomialNB()\n",
    "\n",
    "# Fit the model\n",
    "mnb.fit(X_train, y_train)\n",
    "\n",
    "# Make predictions\n",
    "y_pred = mnb.predict(X_test)\n",
    "\n",
    "# Calculate the accuracy\n",
    "accuracy = accuracy_score(y_test, y_pred)\n",
    "print(f'Accuracy: {accuracy * 100:.2f}%')\n",
    "\n",
    "\n",
    "def create_new_instance(outlook, temp, humidity, wind):\n",
    "    return np.array([[le_outlook.transform([outlook])[0],\n",
    "                          le_temperature.transform([temp])[0],\n",
    "                          le_humidity.transform([humidity])[0],\n",
    "                          le_wind.transform([wind])[0]]])\n",
    "\n",
    "# Example prediction\n",
    "new_instance = create_new_instance(\"Rain\", \"Cool\", \"Normal\", \"Strong\")\n",
    "\n",
    "prediction = mnb.predict(new_instance)\n",
    "\n",
    "print(f'Predicted Play Tennis: {\"Yes\" if prediction[0] == 1 else \"No\"}')\n"
   ]
  },
  {
   "cell_type": "code",
   "execution_count": 49,
   "metadata": {},
   "outputs": [
    {
     "name": "stdout",
     "output_type": "stream",
     "text": [
      "Accuracy: 20.00%\n",
      "Predicted Play Tennis: Yes\n"
     ]
    },
    {
     "name": "stderr",
     "output_type": "stream",
     "text": [
      "/opt/anaconda3/envs/test_env/lib/python3.11/site-packages/sklearn/base.py:493: UserWarning: X does not have valid feature names, but MultinomialNB was fitted with feature names\n",
      "  warnings.warn(\n"
     ]
    }
   ],
   "source": [
    "# Split the data into features and target variable using only 'Outlook'\n",
    "X = df[['Outlook']]\n",
    "y = df['PlayTennis']\n",
    "\n",
    "# Split the data into training and testing sets\n",
    "X_train, X_test, y_train, y_test = train_test_split(X, y, test_size=0.5, random_state=42)\n",
    "\n",
    "# Initialize the Multinomial Naive Bayes classifier\n",
    "mnb = MultinomialNB()\n",
    "\n",
    "# Fit the model\n",
    "mnb.fit(X_train, y_train)\n",
    "\n",
    "# Make predictions\n",
    "y_pred = mnb.predict(X_test)\n",
    "\n",
    "# Calculate the accuracy\n",
    "accuracy = accuracy_score(y_test, y_pred)\n",
    "print(f'Accuracy: {accuracy * 100:.2f}%')\n",
    "\n",
    "# Example prediction\n",
    "new_instance = np.array([[le_outlook.transform(['Sunny'])[0]]])\n",
    "prediction = mnb.predict(new_instance)\n",
    "print(f'Predicted Play Tennis: {\"Yes\" if prediction[0] == 1 else \"No\"}')"
   ]
  }
 ],
 "metadata": {
  "kernelspec": {
   "display_name": "test_env",
   "language": "python",
   "name": "python3"
  },
  "language_info": {
   "codemirror_mode": {
    "name": "ipython",
    "version": 3
   },
   "file_extension": ".py",
   "mimetype": "text/x-python",
   "name": "python",
   "nbconvert_exporter": "python",
   "pygments_lexer": "ipython3",
   "version": "3.11.9"
  }
 },
 "nbformat": 4,
 "nbformat_minor": 2
}
